{
 "metadata": {
  "language_info": {
   "codemirror_mode": {
    "name": "ipython",
    "version": 3
   },
   "file_extension": ".py",
   "mimetype": "text/x-python",
   "name": "python",
   "nbconvert_exporter": "python",
   "pygments_lexer": "ipython3",
   "version": "3.8.3"
  },
  "orig_nbformat": 4,
  "kernelspec": {
   "name": "python3",
   "display_name": "Python 3.8.3 64-bit"
  },
  "interpreter": {
   "hash": "2db524e06e9f5f4ffedc911c917cb75e12dbc923643829bf417064a77eb14d37"
  }
 },
 "nbformat": 4,
 "nbformat_minor": 2,
 "cells": [
  {
   "cell_type": "markdown",
   "source": [
    "# argopandas\n",
    "\n",
    "[![Check](https://github.com/ArgoCanada/argopandas/actions/workflows/check.yaml/badge.svg)](https://github.com/ArgoCanada/argopandas/actions/workflows/check.yaml)\n",
    "[![Codecov test coverage](https://codecov.io/gh/ArgoCanada/argopandas/branch/master/graph/badge.svg)](https://codecov.io/gh/ArgoCanada/argopandas?branch=master)\n",
    "\n",
    "The goal of argopandas is to provide seamless access to Argo NetCDF files using a pandas `DataFrame`-based interface. It is a Python port of the [argodata package for R](https://github.com/ArgoCanada/argodata). The package is under heavy development and we would love feedback on the interface or anything else about the package!\n",
    "\n",
    "## Installation\n",
    "\n",
    "You can install the `argopandas` package using `pip`.\n",
    "\n",
    "``` bash\n",
    "pip install git+https://github.com/ArgoCanada/argopandas.git\n",
    "```\n",
    "\n",
    "The package depends on `pandas`, `numpy`, and `netCDF4`, which you can install using `pip install pandas numpy netCDF4` or via your favourite Python package management system. The `argopandas` package requires Python 3.6 or later.\n",
    "\n",
    "## Examples\n",
    "\n",
    "The intended interface for most usage is contained in the `argopandas` module. You can import this as `argo` for pretty-looking syntax:"
   ],
   "metadata": {}
  },
  {
   "cell_type": "code",
   "execution_count": 2,
   "source": [
    "import argopandas as argo\r\n",
    "# to make this work with GitHub\r\n",
    "import pandas as pd\r\n",
    "pd.set_option('display.notebook_repr_html', False)"
   ],
   "outputs": [],
   "metadata": {}
  },
  {
   "cell_type": "markdown",
   "source": [
    "The global indexes are available via `argo.prof`, `argo.meta`, `argo.tech`, `argo.traj`, `argo.bio_prof`, `argo.synthetic_prof`, and `argo.bio_traj`."
   ],
   "metadata": {}
  },
  {
   "cell_type": "code",
   "execution_count": 3,
   "source": [
    "argo.meta.head(5)"
   ],
   "outputs": [
    {
     "output_type": "execute_result",
     "data": {
      "text/plain": [
       "                       file  profiler_type institution     date_update\n",
       "0  aoml/13857/13857_meta.nc            845          AO  20181011200014\n",
       "1  aoml/13858/13858_meta.nc            845          AO  20181011200015\n",
       "2  aoml/13859/13859_meta.nc            845          AO  20181011200025\n",
       "3  aoml/15819/15819_meta.nc            845          AO  20181011200016\n",
       "4  aoml/15820/15820_meta.nc            845          AO  20181011200018"
      ]
     },
     "metadata": {},
     "execution_count": 3
    }
   ],
   "metadata": {}
  },
  {
   "cell_type": "markdown",
   "source": [
    "By defaut, downloads are lazily cached from the [Ifremer https mirror](https://data-argo.ifremer.fr). You can use `argo.url_mirror()` or `argo.file_mirror()` with `argo.set_default_mirror()` to point `argopandas` at your favourite copy of Argo.\n",
    "\n",
    "To get Argo data from one or more NetCDF files, subset the indexes and use one of the table accessors to download, cache, and read variables aligned along common dimensions. The accessor you probably want is the `.levels` accessor from the `argo.prof` index:"
   ],
   "metadata": {}
  },
  {
   "cell_type": "code",
   "execution_count": 4,
   "source": [
    "argo.prof.head(5).levels[['PRES', 'TEMP']]"
   ],
   "outputs": [
    {
     "output_type": "execute_result",
     "data": {
      "text/plain": [
       "                                                          PRES       TEMP\n",
       "file                              N_PROF N_LEVELS                        \n",
       "aoml/13857/profiles/R13857_001.nc 0      0           11.900000  22.235001\n",
       "                                         1           17.000000  21.987000\n",
       "                                         2           22.100000  21.891001\n",
       "                                         3           27.200001  21.812000\n",
       "                                         4           32.299999  21.632000\n",
       "...                                                        ...        ...\n",
       "aoml/13857/profiles/R13857_005.nc 0      102        976.500000   4.527000\n",
       "                                         103        986.700012   4.527000\n",
       "                                         104        996.799988   4.533000\n",
       "                                         105       1007.000000   4.487000\n",
       "                                         106       1017.200012   4.471000\n",
       "\n",
       "[551 rows x 2 columns]"
      ]
     },
     "metadata": {},
     "execution_count": 4
    }
   ],
   "metadata": {}
  },
  {
   "cell_type": "markdown",
   "source": [
    "You can get data from every variable in an Argo NetCDF file using one of these accessors. The variables grouped in each are aligned along the same dimensions and are documented together in the Argo user's manual.\n",
    "\n",
    "- All indexes have a `.info` accessor that contains length-one variables that aren't aligned along any dimensions\n",
    "- `argo.prof`: `argo.prof.levels`, `arog.prof.prof`, `argo.prof.calib`, `argo.prof.param`, and `argo.prof.history`\n",
    "- `argo.traj`: `argo.traj.cycle`, `argo.traj.measurement`, `argo.traj.param`, and `argo.traj.history`\n",
    "- `argo.tech`: `argo.tech.tech_param`\n",
    "- `argo.meta`: `argo.meta.config_param`, `argo.meta.missions`, `argo.meta.trans_system`, `argo.meta.positioning_system`, `argo.meta.launch_config_param`, `argo.meta.sensor`, and `argo.meta.param`"
   ],
   "metadata": {}
  },
  {
   "cell_type": "markdown",
   "source": [
    "Once you have a data frame you do anything you'd do with a regular `pd.DataFrame()`, like plot your data using the built-in plot method:"
   ],
   "metadata": {}
  },
  {
   "cell_type": "code",
   "execution_count": 5,
   "source": [
    "import matplotlib.pyplot as plt\r\n",
    "fig, ax = plt.subplots()\r\n",
    "for label, df in argo.prof.head(5).levels.groupby('file'):\r\n",
    "    df.plot(x='TEMP', y = 'PRES', ax=ax, label=label)\r\n",
    "ax.invert_yaxis()"
   ],
   "outputs": [
    {
     "output_type": "display_data",
     "data": {
      "text/plain": [
       "<Figure size 432x288 with 1 Axes>"
      ],
      "image/png": "[encoded data removed]"
     },
     "metadata": {
      "needs_background": "light"
     }
    }
   ],
   "metadata": {}
  }
 ]
}